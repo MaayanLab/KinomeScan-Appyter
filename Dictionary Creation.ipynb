{
 "cells": [
  {
   "cell_type": "code",
   "execution_count": 2,
   "metadata": {},
   "outputs": [
    {
     "name": "stdout",
     "output_type": "stream",
     "text": [
      "Running...\n",
      "Done.\n"
     ]
    }
   ],
   "source": [
    "# Creates the dictionaries and converts them to GMT files\n",
    "\n",
    "import pandas as pd\n",
    "from collections import defaultdict\n",
    "\n",
    "df = pd.DataFrame()\n",
    "print('Running...')\n",
    "\n",
    "kinome_df = pd.read_excel('http://lincs.hms.harvard.edu/wordpress/wp-content/uploads/2013/11/HMS-LINCS_KinomeScan_Datasets_2018-01-18.xlsx')\n",
    "kinome_df['sm_hms_id'] = kinome_df['sm_hms_id'].str.replace(r'\\D', '') #remove HMSL before the ID\n",
    "\n",
    "# retrieve the CSV file for the small molecules, 2-183\n",
    "for csv_name in range(0, 182):  \n",
    "    hms_id_string = str(kinome_df.iloc[csv_name]['sm_hms_id'])\n",
    "    # Eliminate the small molecules that are not in the LINCS database (which produce random molecules and kinases)\n",
    "    if (int(hms_id_string) < 10520): \n",
    "        url = 'http://lincs.hms.harvard.edu/db/datasets/20000/results?small+molecules={0}&output_type=.csv'.format(hms_id_string)\n",
    "        data = pd.read_csv(url)\n",
    "        data_df = pd.DataFrame(data)\n",
    "        df = df.append(data_df.loc[data_df['Binding Class'] <= 3]) # Only append the rows with target affinity <= 3\n",
    "\n",
    "# create dictionary of dictionaries, one corresponding to each target affinity level. Set is used to eliminate duplicates \n",
    "levels = {'1': defaultdict(set), '2': defaultdict(set), '3': defaultdict(set)}\n",
    "\n",
    "# kinases are keys and small molecules are values \n",
    "for x in range(0, df.shape[0] - 1):\n",
    "    kinase_name = df.iloc[x]['HUGO Gene Symbol']\n",
    "    sm_name = df.iloc[x]['HMSL Small Mol Name']\n",
    "    target_aff = df.iloc[x]['Binding Class']\n",
    "    \n",
    "    levels[str(target_aff)][kinase_name].add(sm_name)\n",
    "    \n",
    "fw1 = open('level1.gmt', 'w')\n",
    "for k, v in levels['1'].items():\n",
    "    print(str(k) + '\\t\\t', '\\t'.join(v), file = fw1)\n",
    "fw1.close()\n",
    "\n",
    "fw2 = open('level2.gmt', 'w')\n",
    "for k, v in levels['2'].items():\n",
    "    print(str(k) + '\\t\\t', '\\t'.join(v), file = fw2)\n",
    "fw2.close()\n",
    "\n",
    "fw3 = open('level3.gmt', 'w')\n",
    "for k, v in levels['3'].items():\n",
    "    print(str(k) + '\\t\\t', '\\t'.join(v), file = fw3)\n",
    "fw3.close()\n",
    "\n",
    "print('Done.')"
   ]
  },
  {
   "cell_type": "code",
   "execution_count": null,
   "metadata": {},
   "outputs": [],
   "source": []
  }
 ],
 "metadata": {
  "kernelspec": {
   "display_name": "my-first-appyter",
   "language": "python",
   "name": "my-first-appyter"
  },
  "language_info": {
   "codemirror_mode": {
    "name": "ipython",
    "version": 3
   },
   "file_extension": ".py",
   "mimetype": "text/x-python",
   "name": "python",
   "nbconvert_exporter": "python",
   "pygments_lexer": "ipython3",
   "version": "3.7.2"
  }
 },
 "nbformat": 4,
 "nbformat_minor": 4
}
